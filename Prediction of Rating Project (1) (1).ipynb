{
 "cells": [
  {
   "cell_type": "code",
   "execution_count": 1,
   "id": "9e250787",
   "metadata": {},
   "outputs": [],
   "source": [
    "import numpy as np\n",
    "import pandas as pd\n",
    "import matplotlib.pyplot as plt\n",
    "import seaborn as sns\n",
    "from sklearn.model_selection import train_test_split\n",
    "from sklearn.metrics import mean_squared_error, mean_absolute_error, r2_score\n",
    "from sklearn.ensemble import RandomForestRegressor\n",
    "from sklearn.model_selection import RandomizedSearchCV\n"
   ]
  },
  {
   "cell_type": "code",
   "execution_count": 2,
   "id": "b4c4adb4",
   "metadata": {},
   "outputs": [],
   "source": [
    "data=pd.read_csv(r'C:\\Users\\user\\Downloads\\googleplaystore.csv')"
   ]
  },
  {
   "cell_type": "code",
   "execution_count": 3,
   "id": "84e3ed68",
   "metadata": {},
   "outputs": [],
   "source": [
    "data[\"Reviews\"] = data[\"Reviews\"].astype(\"int64\")"
   ]
  },
  {
   "cell_type": "code",
   "execution_count": 4,
   "id": "dc5c337c",
   "metadata": {},
   "outputs": [],
   "source": [
    "#Changing size column"
   ]
  },
  {
   "cell_type": "code",
   "execution_count": 4,
   "id": "baf7e17a",
   "metadata": {},
   "outputs": [
    {
     "name": "stdout",
     "output_type": "stream",
     "text": [
      "0        19.0\n",
      "1        14.0\n",
      "2         8.7\n",
      "3        25.0\n",
      "4         2.8\n",
      "         ... \n",
      "10836    53.0\n",
      "10837     3.6\n",
      "10838     9.5\n",
      "10839     NaN\n",
      "10840    19.0\n",
      "Name: Size, Length: 10841, dtype: float64\n"
     ]
    }
   ],
   "source": [
    "#converting size to mb\n",
    "def convert_size(size):\n",
    "    if size == 'Varies with device':\n",
    "        return np.nan\n",
    "    elif size.endswith('M'):\n",
    "        value = float(size[:-1])\n",
    "        return value * 1\n",
    "    elif size.endswith('k'):\n",
    "        value = float(size[:-1])\n",
    "        return value / 1024\n",
    "    else:\n",
    "        return float(size)\n",
    "\n",
    "# Apply the conversion function to the 'Size' column\n",
    "data['Size'] = data['Size'].apply(convert_size)\n",
    "\n",
    "# Print the updated 'Size' column\n",
    "print(data['Size'])"
   ]
  },
  {
   "cell_type": "code",
   "execution_count": 5,
   "id": "9ef41814",
   "metadata": {},
   "outputs": [
    {
     "name": "stderr",
     "output_type": "stream",
     "text": [
      "C:\\Users\\user\\AppData\\Local\\Temp\\ipykernel_10080\\2857241713.py:6: SettingWithCopyWarning: \n",
      "A value is trying to be set on a copy of a slice from a DataFrame\n",
      "\n",
      "See the caveats in the documentation: https://pandas.pydata.org/pandas-docs/stable/user_guide/indexing.html#returning-a-view-versus-a-copy\n",
      "  column_values[i]=modified_value\n"
     ]
    }
   ],
   "source": [
    "#converting installs to numerical,removing +\n",
    "column_values=data['Installs']\n",
    "for i in range(len(column_values)):\n",
    "    value=column_values[i]\n",
    "    modified_value=int(value.rstrip('+').replace(',',''))\n",
    "    column_values[i]=modified_value\n",
    "    data['Installs']=column_values"
   ]
  },
  {
   "cell_type": "code",
   "execution_count": 6,
   "id": "18acc9de",
   "metadata": {},
   "outputs": [
    {
     "data": {
      "text/plain": [
       "0           10000\n",
       "1          500000\n",
       "2         5000000\n",
       "3        50000000\n",
       "4          100000\n",
       "           ...   \n",
       "10836        5000\n",
       "10837         100\n",
       "10838        1000\n",
       "10839        1000\n",
       "10840    10000000\n",
       "Name: Installs, Length: 10841, dtype: int32"
      ]
     },
     "execution_count": 6,
     "metadata": {},
     "output_type": "execute_result"
    }
   ],
   "source": [
    " data['Installs'].astype(int)"
   ]
  },
  {
   "cell_type": "code",
   "execution_count": 8,
   "id": "26237048",
   "metadata": {},
   "outputs": [
    {
     "data": {
      "text/plain": [
       "(10841, 12)"
      ]
     },
     "execution_count": 8,
     "metadata": {},
     "output_type": "execute_result"
    }
   ],
   "source": [
    "data.shape"
   ]
  },
  {
   "cell_type": "code",
   "execution_count": 9,
   "id": "e3cffc0c",
   "metadata": {},
   "outputs": [],
   "source": [
    "#convert the price data to float"
   ]
  },
  {
   "cell_type": "code",
   "execution_count": 7,
   "id": "a596219f",
   "metadata": {},
   "outputs": [
    {
     "name": "stderr",
     "output_type": "stream",
     "text": [
      "C:\\Users\\user\\AppData\\Local\\Temp\\ipykernel_10080\\3018123431.py:1: FutureWarning: The default value of regex will change from True to False in a future version. In addition, single character regular expressions will *not* be treated as literal strings when regex=True.\n",
      "  data['Price']=data['Price'].str.replace('$','').astype(float)\n"
     ]
    }
   ],
   "source": [
    "data['Price']=data['Price'].str.replace('$','').astype(float)"
   ]
  },
  {
   "cell_type": "code",
   "execution_count": 11,
   "id": "167d715c",
   "metadata": {},
   "outputs": [],
   "source": [
    "#converting LastUpdated colum to YYYY"
   ]
  },
  {
   "cell_type": "code",
   "execution_count": 12,
   "id": "c5ebc92d",
   "metadata": {},
   "outputs": [],
   "source": [
    "#converting reviews to int"
   ]
  },
  {
   "cell_type": "code",
   "execution_count": 8,
   "id": "fb8e8f6d",
   "metadata": {},
   "outputs": [],
   "source": [
    "data[\"Reviews\"] = data[\"Reviews\"].astype(\"int64\")"
   ]
  },
  {
   "cell_type": "code",
   "execution_count": 14,
   "id": "8a66c545",
   "metadata": {},
   "outputs": [],
   "source": [
    "#Combining mature 17+ and adult only 18+"
   ]
  },
  {
   "cell_type": "code",
   "execution_count": 9,
   "id": "6509e528",
   "metadata": {},
   "outputs": [],
   "source": [
    "data[\"Content Rating\"].replace(\"Adults only 18+\", \"Mature 17+\", inplace =True)"
   ]
  },
  {
   "cell_type": "code",
   "execution_count": 10,
   "id": "1fb5a621",
   "metadata": {},
   "outputs": [],
   "source": [
    "#the genre column is changed to genre only\n",
    "data[\"Genres\"] = data[\"Genres\"].str.split(\";\").str[0]\n",
    "data[\"Genres\"].replace(\"Music & Audio\", \"Music \", inplace =True)\n"
   ]
  },
  {
   "cell_type": "code",
   "execution_count": 11,
   "id": "c36f1a40",
   "metadata": {},
   "outputs": [
    {
     "data": {
      "text/plain": [
       "0             Art & Design\n",
       "1             Art & Design\n",
       "2             Art & Design\n",
       "3             Art & Design\n",
       "4             Art & Design\n",
       "               ...        \n",
       "10836            Education\n",
       "10837            Education\n",
       "10838              Medical\n",
       "10839    Books & Reference\n",
       "10840            Lifestyle\n",
       "Name: Genres, Length: 10841, dtype: object"
      ]
     },
     "execution_count": 11,
     "metadata": {},
     "output_type": "execute_result"
    }
   ],
   "source": [
    "data['Genres'].astype(str)"
   ]
  },
  {
   "cell_type": "code",
   "execution_count": 12,
   "id": "fa5496fb",
   "metadata": {},
   "outputs": [],
   "source": [
    "#last updated column converted to DD_MM_YYY\n",
    "data[\"Last Updated\"] = pd.to_datetime(data[\"Last Updated\"])"
   ]
  },
  {
   "cell_type": "code",
   "execution_count": 13,
   "id": "12f24f55",
   "metadata": {},
   "outputs": [],
   "source": [
    "# Assuming 'date' column contains the \"dd-mm-yyyy\" formatted dates\n",
    "# Convert 'date' column to pandas datetime format\n",
    "data['Last Updated'] = pd.to_datetime(data['Last Updated'], format='%d-%m-%Y')\n",
    "\n",
    "# Extract the year from the 'date' column and store it in a new column 'year'\n",
    "data['Last Updated'] = data['Last Updated'].dt.year"
   ]
  },
  {
   "cell_type": "code",
   "execution_count": 15,
   "id": "7cea0baa",
   "metadata": {},
   "outputs": [
    {
     "data": {
      "text/plain": [
       "Category             1\n",
       "Rating            1474\n",
       "Reviews              0\n",
       "Size              1695\n",
       "Installs             0\n",
       "Type                 1\n",
       "Price                0\n",
       "Content Rating       0\n",
       "Genres               1\n",
       "Last Updated         0\n",
       "Current Ver          8\n",
       "Android Ver          2\n",
       "dtype: int64"
      ]
     },
     "execution_count": 15,
     "metadata": {},
     "output_type": "execute_result"
    }
   ],
   "source": [
    "data.isna().sum()"
   ]
  },
  {
   "cell_type": "code",
   "execution_count": 16,
   "id": "3fa3edb7",
   "metadata": {},
   "outputs": [
    {
     "data": {
      "text/plain": [
       "Text(0.5, 1.0, 'Scatter Plot: Reviews vs. Rating')"
      ]
     },
     "execution_count": 16,
     "metadata": {},
     "output_type": "execute_result"
    },
    {
     "data": {
      "image/png": "[encoded data removed]",
      "text/plain": [
       "<Figure size 640x480 with 1 Axes>"
      ]
     },
     "metadata": {},
     "output_type": "display_data"
    }
   ],
   "source": [
    "x_data=data['Reviews']\n",
    "y_data=data['Rating']\n",
    "sns.scatterplot(x=x_data,y=y_data)\n",
    "plt.xlabel('Reviews')\n",
    "plt.ylabel('Rating')\n",
    "plt.title('Scatter Plot: Reviews vs. Rating')"
   ]
  },
  {
   "cell_type": "code",
   "execution_count": 22,
   "id": "62fe5bd9",
   "metadata": {},
   "outputs": [
    {
     "data": {
      "text/plain": [
       "Text(0.5, 1.0, 'Scatter Plot: Installs vs. Rating')"
      ]
     },
     "execution_count": 22,
     "metadata": {},
     "output_type": "execute_result"
    },
    {
     "data": {
      "image/png": "[encoded data removed]",
      "text/plain": [
       "<Figure size 640x480 with 1 Axes>"
      ]
     },
     "metadata": {},
     "output_type": "display_data"
    }
   ],
   "source": [
    "x_data=data['Installs']\n",
    "y_data=data['Rating']\n",
    "sns.scatterplot(x=x_data,y=y_data)\n",
    "plt.xlabel('Installs')\n",
    "plt.ylabel('Rating')\n",
    "plt.title('Scatter Plot: Installs vs. Rating')"
   ]
  },
  {
   "cell_type": "code",
   "execution_count": 17,
   "id": "f9129263",
   "metadata": {},
   "outputs": [
    {
     "name": "stderr",
     "output_type": "stream",
     "text": [
      "C:\\Users\\user\\AppData\\Local\\Temp\\ipykernel_10080\\2909463098.py:4: FutureWarning: The default value of numeric_only in DataFrame.corr is deprecated. In a future version, it will default to False. Select only valid columns or specify the value of numeric_only to silence this warning.\n",
      "  correlation_matrix = data[numeric_features].corr()\n"
     ]
    },
    {
     "data": {
      "text/plain": [
       "Text(0.5, 1.0, 'Correlation Heatmap of Numeric Features')"
      ]
     },
     "execution_count": 17,
     "metadata": {},
     "output_type": "execute_result"
    },
    {
     "data": {
      "image/png": "[encoded data removed]",
      "text/plain": [
       "<Figure size 1000x800 with 2 Axes>"
      ]
     },
     "metadata": {},
     "output_type": "display_data"
    }
   ],
   "source": [
    "numeric_features = ['Rating', 'Reviews', 'Size', 'Installs', 'Price','Last Updated']\n",
    "\n",
    "# Create a correlation matrix for the selected numeric features\n",
    "correlation_matrix = data[numeric_features].corr()\n",
    "\n",
    "# Create the heatmap\n",
    "plt.figure(figsize=(10, 8))\n",
    "sns.heatmap(correlation_matrix, annot=True, cmap='coolwarm', fmt='.2f')\n",
    "plt.title('Correlation Heatmap of Numeric Features')"
   ]
  },
  {
   "cell_type": "code",
   "execution_count": 18,
   "id": "daf52856",
   "metadata": {},
   "outputs": [],
   "source": [
    "data['Installs']=data['Installs'].astype(int)"
   ]
  },
  {
   "cell_type": "code",
   "execution_count": 19,
   "id": "3bad5d17",
   "metadata": {},
   "outputs": [],
   "source": [
    "data.dropna(subset=['Category'], inplace=True)"
   ]
  },
  {
   "cell_type": "code",
   "execution_count": 20,
   "id": "c779d3ad",
   "metadata": {},
   "outputs": [
    {
     "data": {
      "text/plain": [
       "Category             0\n",
       "Rating            1474\n",
       "Reviews              0\n",
       "Size              1695\n",
       "Installs             0\n",
       "Type                 1\n",
       "Price                0\n",
       "Content Rating       0\n",
       "Genres               0\n",
       "Last Updated         0\n",
       "Current Ver          8\n",
       "Android Ver          2\n",
       "dtype: int64"
      ]
     },
     "execution_count": 20,
     "metadata": {},
     "output_type": "execute_result"
    }
   ],
   "source": [
    "data.isna().sum()"
   ]
  },
  {
   "cell_type": "code",
   "execution_count": 21,
   "id": "f0e5c121",
   "metadata": {},
   "outputs": [],
   "source": [
    "#Seperating the data with null rating\n",
    "null_rating_mask = data['Rating'].isnull()\n",
    "\n",
    "# Step 2: Create a separate dataset containing rows with null values for 'Rating'\n",
    "null_rating_data = data[null_rating_mask]\n",
    "\n",
    "# Step 3: Create a separate dataset containing rows without null values for 'Rating'\n",
    "nonnull_data = data[~null_rating_mask]"
   ]
  },
  {
   "cell_type": "code",
   "execution_count": 22,
   "id": "9fd8fa49",
   "metadata": {},
   "outputs": [
    {
     "name": "stderr",
     "output_type": "stream",
     "text": [
      "C:\\Users\\user\\AppData\\Local\\Temp\\ipykernel_10080\\1571791810.py:5: SettingWithCopyWarning: \n",
      "A value is trying to be set on a copy of a slice from a DataFrame\n",
      "\n",
      "See the caveats in the documentation: https://pandas.pydata.org/pandas-docs/stable/user_guide/indexing.html#returning-a-view-versus-a-copy\n",
      "  nonnull_data['Size'].fillna(category_median_size, inplace=True)\n"
     ]
    }
   ],
   "source": [
    "# Calculate the median size for each category\n",
    "category_median_size = nonnull_data.groupby('Category')['Size'].transform('median')\n",
    "\n",
    "# Replace missing 'Size' values with the median size of their respective categories\n",
    "nonnull_data['Size'].fillna(category_median_size, inplace=True)"
   ]
  },
  {
   "cell_type": "code",
   "execution_count": 23,
   "id": "9cf131bb",
   "metadata": {},
   "outputs": [
    {
     "data": {
      "text/plain": [
       "2018    6508\n",
       "2017    1498\n",
       "2016     651\n",
       "2015     388\n",
       "2014     190\n",
       "2013      94\n",
       "2012      21\n",
       "2011      15\n",
       "2010       1\n",
       "Name: Last Updated, dtype: int64"
      ]
     },
     "execution_count": 23,
     "metadata": {},
     "output_type": "execute_result"
    }
   ],
   "source": [
    "nonnull_data['Last Updated'].value_counts()"
   ]
  },
  {
   "cell_type": "code",
   "execution_count": 30,
   "id": "5c5d519e",
   "metadata": {},
   "outputs": [
    {
     "data": {
      "text/plain": [
       "FAMILY                                     1747\n",
       "GAME                                       1097\n",
       "TOOLS                                       734\n",
       "PRODUCTIVITY                                351\n",
       "MEDICAL                                     350\n",
       "COMMUNICATION                               328\n",
       "FINANCE                                     323\n",
       "SPORTS                                      319\n",
       "PHOTOGRAPHY                                 317\n",
       "LIFESTYLE                                   314\n",
       "PERSONALIZATION                             314\n",
       "BUSINESS                                    303\n",
       "HEALTH_AND_FITNESS                          297\n",
       "SOCIAL                                      259\n",
       "SHOPPING                                    238\n",
       "NEWS_AND_MAGAZINES                          233\n",
       "TRAVEL_AND_LOCAL                            226\n",
       "DATING                                      195\n",
       "BOOKS_AND_REFERENCE                         178\n",
       "VIDEO_PLAYERS                               160\n",
       "EDUCATION                                   155\n",
       "ENTERTAINMENT                               149\n",
       "MAPS_AND_NAVIGATION                         124\n",
       "FOOD_AND_DRINK                              109\n",
       "HOUSE_AND_HOME                               76\n",
       "WEATHER                                      75\n",
       "AUTO_AND_VEHICLES                            73\n",
       "LIBRARIES_AND_DEMO                           65\n",
       "ART_AND_DESIGN                               62\n",
       "COMICS                                       58\n",
       "PARENTING                                    50\n",
       "EVENTS                                       45\n",
       "BEAUTY                                       42\n",
       "Life Made WI-Fi Touchscreen Photo Frame       1\n",
       "Name: Category, dtype: int64"
      ]
     },
     "execution_count": 30,
     "metadata": {},
     "output_type": "execute_result"
    }
   ],
   "source": [
    "nonnull_data['Category'].value_counts()"
   ]
  },
  {
   "cell_type": "code",
   "execution_count": 24,
   "id": "2443d64f",
   "metadata": {},
   "outputs": [],
   "source": [
    "# Step 1: Compute the value counts of each category in the 'Category' column\n",
    "category_counts = nonnull_data['Category'].value_counts()\n",
    "\n",
    "# Step 2: Select the top 11 most frequently occurring categories\n",
    "top_frequent_categories = category_counts.nlargest(11).index\n",
    "\n",
    "# Step 3: Replace all categories not in the top 11 with \"Other\"\n",
    "nonnull_data.loc[~nonnull_data['Category'].isin(top_frequent_categories), 'Category'] = \"Other\""
   ]
  },
  {
   "cell_type": "code",
   "execution_count": 25,
   "id": "364aac19",
   "metadata": {},
   "outputs": [
    {
     "data": {
      "text/plain": [
       "Other              3172\n",
       "FAMILY             1747\n",
       "GAME               1097\n",
       "TOOLS               734\n",
       "PRODUCTIVITY        351\n",
       "MEDICAL             350\n",
       "COMMUNICATION       328\n",
       "FINANCE             323\n",
       "SPORTS              319\n",
       "PHOTOGRAPHY         317\n",
       "LIFESTYLE           314\n",
       "PERSONALIZATION     314\n",
       "Name: Category, dtype: int64"
      ]
     },
     "execution_count": 25,
     "metadata": {},
     "output_type": "execute_result"
    }
   ],
   "source": [
    "nonnull_data['Category'].value_counts()"
   ]
  },
  {
   "cell_type": "code",
   "execution_count": 33,
   "id": "b0fee0cb",
   "metadata": {},
   "outputs": [
    {
     "data": {
      "text/plain": [
       "Category          0\n",
       "Rating            0\n",
       "Reviews           0\n",
       "Size              0\n",
       "Installs          0\n",
       "Type              0\n",
       "Price             0\n",
       "Content Rating    0\n",
       "Genres            1\n",
       "Last Updated      0\n",
       "Current Ver       4\n",
       "Android Ver       2\n",
       "dtype: int64"
      ]
     },
     "execution_count": 33,
     "metadata": {},
     "output_type": "execute_result"
    }
   ],
   "source": [
    "nonnull_data.isna().sum()"
   ]
  },
  {
   "cell_type": "code",
   "execution_count": 34,
   "id": "b71d4d61",
   "metadata": {},
   "outputs": [
    {
     "data": {
      "text/plain": [
       "(9367, 12)"
      ]
     },
     "execution_count": 34,
     "metadata": {},
     "output_type": "execute_result"
    }
   ],
   "source": [
    "nonnull_data.shape"
   ]
  },
  {
   "cell_type": "code",
   "execution_count": 35,
   "id": "f3621b4b",
   "metadata": {},
   "outputs": [
    {
     "data": {
      "text/html": [
       "<div>\n",
       "<style scoped>\n",
       "    .dataframe tbody tr th:only-of-type {\n",
       "        vertical-align: middle;\n",
       "    }\n",
       "\n",
       "    .dataframe tbody tr th {\n",
       "        vertical-align: top;\n",
       "    }\n",
       "\n",
       "    .dataframe thead th {\n",
       "        text-align: right;\n",
       "    }\n",
       "</style>\n",
       "<table border=\"1\" class=\"dataframe\">\n",
       "  <thead>\n",
       "    <tr style=\"text-align: right;\">\n",
       "      <th></th>\n",
       "      <th>Category</th>\n",
       "      <th>Rating</th>\n",
       "      <th>Reviews</th>\n",
       "      <th>Size</th>\n",
       "      <th>Installs</th>\n",
       "      <th>Type</th>\n",
       "      <th>Price</th>\n",
       "      <th>Content Rating</th>\n",
       "      <th>Genres</th>\n",
       "      <th>Last Updated</th>\n",
       "      <th>Current Ver</th>\n",
       "      <th>Android Ver</th>\n",
       "    </tr>\n",
       "  </thead>\n",
       "  <tbody>\n",
       "    <tr>\n",
       "      <th>10834</th>\n",
       "      <td>FAMILY</td>\n",
       "      <td>4.0</td>\n",
       "      <td>7</td>\n",
       "      <td>2.60</td>\n",
       "      <td>500</td>\n",
       "      <td>Free</td>\n",
       "      <td>0.0</td>\n",
       "      <td>Everyone</td>\n",
       "      <td>Education</td>\n",
       "      <td>2017</td>\n",
       "      <td>1.0.0</td>\n",
       "      <td>4.1 and up</td>\n",
       "    </tr>\n",
       "    <tr>\n",
       "      <th>10836</th>\n",
       "      <td>FAMILY</td>\n",
       "      <td>4.5</td>\n",
       "      <td>38</td>\n",
       "      <td>53.00</td>\n",
       "      <td>5000</td>\n",
       "      <td>Free</td>\n",
       "      <td>0.0</td>\n",
       "      <td>Everyone</td>\n",
       "      <td>Education</td>\n",
       "      <td>2017</td>\n",
       "      <td>1.48</td>\n",
       "      <td>4.1 and up</td>\n",
       "    </tr>\n",
       "    <tr>\n",
       "      <th>10837</th>\n",
       "      <td>FAMILY</td>\n",
       "      <td>5.0</td>\n",
       "      <td>4</td>\n",
       "      <td>3.60</td>\n",
       "      <td>100</td>\n",
       "      <td>Free</td>\n",
       "      <td>0.0</td>\n",
       "      <td>Everyone</td>\n",
       "      <td>Education</td>\n",
       "      <td>2018</td>\n",
       "      <td>1</td>\n",
       "      <td>4.1 and up</td>\n",
       "    </tr>\n",
       "    <tr>\n",
       "      <th>10839</th>\n",
       "      <td>Other</td>\n",
       "      <td>4.5</td>\n",
       "      <td>114</td>\n",
       "      <td>7.15</td>\n",
       "      <td>1000</td>\n",
       "      <td>Free</td>\n",
       "      <td>0.0</td>\n",
       "      <td>Mature 17+</td>\n",
       "      <td>Books &amp; Reference</td>\n",
       "      <td>2015</td>\n",
       "      <td>Varies with device</td>\n",
       "      <td>Varies with device</td>\n",
       "    </tr>\n",
       "    <tr>\n",
       "      <th>10840</th>\n",
       "      <td>LIFESTYLE</td>\n",
       "      <td>4.5</td>\n",
       "      <td>398307</td>\n",
       "      <td>19.00</td>\n",
       "      <td>10000000</td>\n",
       "      <td>Free</td>\n",
       "      <td>0.0</td>\n",
       "      <td>Everyone</td>\n",
       "      <td>Lifestyle</td>\n",
       "      <td>2018</td>\n",
       "      <td>Varies with device</td>\n",
       "      <td>Varies with device</td>\n",
       "    </tr>\n",
       "  </tbody>\n",
       "</table>\n",
       "</div>"
      ],
      "text/plain": [
       "        Category  Rating  Reviews   Size  Installs  Type  Price  \\\n",
       "10834     FAMILY     4.0        7   2.60       500  Free    0.0   \n",
       "10836     FAMILY     4.5       38  53.00      5000  Free    0.0   \n",
       "10837     FAMILY     5.0        4   3.60       100  Free    0.0   \n",
       "10839      Other     4.5      114   7.15      1000  Free    0.0   \n",
       "10840  LIFESTYLE     4.5   398307  19.00  10000000  Free    0.0   \n",
       "\n",
       "      Content Rating             Genres  Last Updated         Current Ver  \\\n",
       "10834       Everyone          Education          2017               1.0.0   \n",
       "10836       Everyone          Education          2017                1.48   \n",
       "10837       Everyone          Education          2018                   1   \n",
       "10839     Mature 17+  Books & Reference          2015  Varies with device   \n",
       "10840       Everyone          Lifestyle          2018  Varies with device   \n",
       "\n",
       "              Android Ver  \n",
       "10834          4.1 and up  \n",
       "10836          4.1 and up  \n",
       "10837          4.1 and up  \n",
       "10839  Varies with device  \n",
       "10840  Varies with device  "
      ]
     },
     "execution_count": 35,
     "metadata": {},
     "output_type": "execute_result"
    }
   ],
   "source": [
    "nonnull_data.tail()"
   ]
  },
  {
   "cell_type": "code",
   "execution_count": 26,
   "id": "e74096e5",
   "metadata": {},
   "outputs": [],
   "source": [
    "from sklearn.preprocessing import OneHotEncoder"
   ]
  },
  {
   "cell_type": "code",
   "execution_count": 27,
   "id": "65b74948",
   "metadata": {},
   "outputs": [
    {
     "name": "stderr",
     "output_type": "stream",
     "text": [
      "C:\\Users\\user\\AppData\\Local\\Temp\\ipykernel_10080\\842801521.py:2: SettingWithCopyWarning: \n",
      "A value is trying to be set on a copy of a slice from a DataFrame.\n",
      "Try using .loc[row_indexer,col_indexer] = value instead\n",
      "\n",
      "See the caveats in the documentation: https://pandas.pydata.org/pandas-docs/stable/user_guide/indexing.html#returning-a-view-versus-a-copy\n",
      "  nonnull_data['Category'] = nonnull_data['Category'].astype(str)\n",
      "C:\\Users\\user\\AppData\\Local\\Temp\\ipykernel_10080\\842801521.py:3: SettingWithCopyWarning: \n",
      "A value is trying to be set on a copy of a slice from a DataFrame.\n",
      "Try using .loc[row_indexer,col_indexer] = value instead\n",
      "\n",
      "See the caveats in the documentation: https://pandas.pydata.org/pandas-docs/stable/user_guide/indexing.html#returning-a-view-versus-a-copy\n",
      "  nonnull_data['Type'] = nonnull_data['Type'].astype(str)\n",
      "C:\\Users\\user\\anaconda3\\lib\\site-packages\\sklearn\\preprocessing\\_encoders.py:828: FutureWarning: `sparse` was renamed to `sparse_output` in version 1.2 and will be removed in 1.4. `sparse_output` is ignored unless you leave `sparse` to its default value.\n",
      "  warnings.warn(\n",
      "C:\\Users\\user\\anaconda3\\lib\\site-packages\\sklearn\\preprocessing\\_encoders.py:828: FutureWarning: `sparse` was renamed to `sparse_output` in version 1.2 and will be removed in 1.4. `sparse_output` is ignored unless you leave `sparse` to its default value.\n",
      "  warnings.warn(\n"
     ]
    }
   ],
   "source": [
    "# Convert Categorical Columns to String Type (Optional, if not done already)\n",
    "nonnull_data['Category'] = nonnull_data['Category'].astype(str)\n",
    "nonnull_data['Type'] = nonnull_data['Type'].astype(str)\n",
    "\n",
    "# Initialize the OneHotEncoder\n",
    "ohe_category = OneHotEncoder(sparse=False, handle_unknown='ignore')\n",
    "ohe_type = OneHotEncoder(sparse=False, handle_unknown='ignore')\n",
    "\n",
    "# Fit and Transform the 'Category' and 'Type' columns\n",
    "encoded_category = ohe_category.fit_transform(nonnull_data[['Category']])\n",
    "encoded_type = ohe_type.fit_transform(nonnull_data[['Type']])\n",
    "\n",
    "# Get unique feature names after one-hot encoding for category and type\n",
    "category_names = ohe_category.get_feature_names_out(['Category'])\n",
    "type_names = ohe_type.get_feature_names_out(['Type'])\n",
    "\n",
    "# Create DataFrames with the encoded columns and feature names\n",
    "encoded_category_df = pd.DataFrame(encoded_category, columns=category_names, index=nonnull_data.index)\n",
    "encoded_type_df = pd.DataFrame(encoded_type, columns=type_names, index=nonnull_data.index)\n",
    "\n",
    "# Concatenate the encoded DataFrames with the original DataFrame (excluding 'Category' and 'Type' columns)\n",
    "data_encoded = pd.concat([nonnull_data.drop(['Category', 'Type'], axis=1), encoded_category_df, encoded_type_df], axis=1)\n"
   ]
  },
  {
   "cell_type": "code",
   "execution_count": 38,
   "id": "ed3c2931",
   "metadata": {},
   "outputs": [
    {
     "data": {
      "text/plain": [
       "(9367, 24)"
      ]
     },
     "execution_count": 38,
     "metadata": {},
     "output_type": "execute_result"
    }
   ],
   "source": [
    "data_encoded.shape"
   ]
  },
  {
   "cell_type": "code",
   "execution_count": 39,
   "id": "0a87205a",
   "metadata": {},
   "outputs": [
    {
     "data": {
      "text/plain": [
       "Index(['Rating', 'Reviews', 'Size', 'Installs', 'Price', 'Content Rating',\n",
       "       'Genres', 'Last Updated', 'Current Ver', 'Android Ver',\n",
       "       'Category_COMMUNICATION', 'Category_FAMILY', 'Category_FINANCE',\n",
       "       'Category_GAME', 'Category_LIFESTYLE', 'Category_MEDICAL',\n",
       "       'Category_Other', 'Category_PERSONALIZATION', 'Category_PHOTOGRAPHY',\n",
       "       'Category_PRODUCTIVITY', 'Category_SPORTS', 'Category_TOOLS',\n",
       "       'Type_Free', 'Type_Paid'],\n",
       "      dtype='object')"
      ]
     },
     "execution_count": 39,
     "metadata": {},
     "output_type": "execute_result"
    }
   ],
   "source": [
    "data_encoded.columns"
   ]
  },
  {
   "cell_type": "code",
   "execution_count": 40,
   "id": "9be9450b",
   "metadata": {},
   "outputs": [
    {
     "data": {
      "text/html": [
       "<div>\n",
       "<style scoped>\n",
       "    .dataframe tbody tr th:only-of-type {\n",
       "        vertical-align: middle;\n",
       "    }\n",
       "\n",
       "    .dataframe tbody tr th {\n",
       "        vertical-align: top;\n",
       "    }\n",
       "\n",
       "    .dataframe thead th {\n",
       "        text-align: right;\n",
       "    }\n",
       "</style>\n",
       "<table border=\"1\" class=\"dataframe\">\n",
       "  <thead>\n",
       "    <tr style=\"text-align: right;\">\n",
       "      <th></th>\n",
       "      <th>Rating</th>\n",
       "      <th>Reviews</th>\n",
       "      <th>Size</th>\n",
       "      <th>Installs</th>\n",
       "      <th>Price</th>\n",
       "      <th>Content Rating</th>\n",
       "      <th>Genres</th>\n",
       "      <th>Last Updated</th>\n",
       "      <th>Current Ver</th>\n",
       "      <th>Android Ver</th>\n",
       "      <th>...</th>\n",
       "      <th>Category_LIFESTYLE</th>\n",
       "      <th>Category_MEDICAL</th>\n",
       "      <th>Category_Other</th>\n",
       "      <th>Category_PERSONALIZATION</th>\n",
       "      <th>Category_PHOTOGRAPHY</th>\n",
       "      <th>Category_PRODUCTIVITY</th>\n",
       "      <th>Category_SPORTS</th>\n",
       "      <th>Category_TOOLS</th>\n",
       "      <th>Type_Free</th>\n",
       "      <th>Type_Paid</th>\n",
       "    </tr>\n",
       "  </thead>\n",
       "  <tbody>\n",
       "    <tr>\n",
       "      <th>0</th>\n",
       "      <td>4.1</td>\n",
       "      <td>159</td>\n",
       "      <td>19.0</td>\n",
       "      <td>10000</td>\n",
       "      <td>0.0</td>\n",
       "      <td>Everyone</td>\n",
       "      <td>Art &amp; Design</td>\n",
       "      <td>2018</td>\n",
       "      <td>1.0.0</td>\n",
       "      <td>4.0.3 and up</td>\n",
       "      <td>...</td>\n",
       "      <td>0.0</td>\n",
       "      <td>0.0</td>\n",
       "      <td>1.0</td>\n",
       "      <td>0.0</td>\n",
       "      <td>0.0</td>\n",
       "      <td>0.0</td>\n",
       "      <td>0.0</td>\n",
       "      <td>0.0</td>\n",
       "      <td>1.0</td>\n",
       "      <td>0.0</td>\n",
       "    </tr>\n",
       "    <tr>\n",
       "      <th>1</th>\n",
       "      <td>3.9</td>\n",
       "      <td>967</td>\n",
       "      <td>14.0</td>\n",
       "      <td>500000</td>\n",
       "      <td>0.0</td>\n",
       "      <td>Everyone</td>\n",
       "      <td>Art &amp; Design</td>\n",
       "      <td>2018</td>\n",
       "      <td>2.0.0</td>\n",
       "      <td>4.0.3 and up</td>\n",
       "      <td>...</td>\n",
       "      <td>0.0</td>\n",
       "      <td>0.0</td>\n",
       "      <td>1.0</td>\n",
       "      <td>0.0</td>\n",
       "      <td>0.0</td>\n",
       "      <td>0.0</td>\n",
       "      <td>0.0</td>\n",
       "      <td>0.0</td>\n",
       "      <td>1.0</td>\n",
       "      <td>0.0</td>\n",
       "    </tr>\n",
       "    <tr>\n",
       "      <th>2</th>\n",
       "      <td>4.7</td>\n",
       "      <td>87510</td>\n",
       "      <td>8.7</td>\n",
       "      <td>5000000</td>\n",
       "      <td>0.0</td>\n",
       "      <td>Everyone</td>\n",
       "      <td>Art &amp; Design</td>\n",
       "      <td>2018</td>\n",
       "      <td>1.2.4</td>\n",
       "      <td>4.0.3 and up</td>\n",
       "      <td>...</td>\n",
       "      <td>0.0</td>\n",
       "      <td>0.0</td>\n",
       "      <td>1.0</td>\n",
       "      <td>0.0</td>\n",
       "      <td>0.0</td>\n",
       "      <td>0.0</td>\n",
       "      <td>0.0</td>\n",
       "      <td>0.0</td>\n",
       "      <td>1.0</td>\n",
       "      <td>0.0</td>\n",
       "    </tr>\n",
       "    <tr>\n",
       "      <th>3</th>\n",
       "      <td>4.5</td>\n",
       "      <td>215644</td>\n",
       "      <td>25.0</td>\n",
       "      <td>50000000</td>\n",
       "      <td>0.0</td>\n",
       "      <td>Teen</td>\n",
       "      <td>Art &amp; Design</td>\n",
       "      <td>2018</td>\n",
       "      <td>Varies with device</td>\n",
       "      <td>4.2 and up</td>\n",
       "      <td>...</td>\n",
       "      <td>0.0</td>\n",
       "      <td>0.0</td>\n",
       "      <td>1.0</td>\n",
       "      <td>0.0</td>\n",
       "      <td>0.0</td>\n",
       "      <td>0.0</td>\n",
       "      <td>0.0</td>\n",
       "      <td>0.0</td>\n",
       "      <td>1.0</td>\n",
       "      <td>0.0</td>\n",
       "    </tr>\n",
       "    <tr>\n",
       "      <th>4</th>\n",
       "      <td>4.3</td>\n",
       "      <td>967</td>\n",
       "      <td>2.8</td>\n",
       "      <td>100000</td>\n",
       "      <td>0.0</td>\n",
       "      <td>Everyone</td>\n",
       "      <td>Art &amp; Design</td>\n",
       "      <td>2018</td>\n",
       "      <td>1.1</td>\n",
       "      <td>4.4 and up</td>\n",
       "      <td>...</td>\n",
       "      <td>0.0</td>\n",
       "      <td>0.0</td>\n",
       "      <td>1.0</td>\n",
       "      <td>0.0</td>\n",
       "      <td>0.0</td>\n",
       "      <td>0.0</td>\n",
       "      <td>0.0</td>\n",
       "      <td>0.0</td>\n",
       "      <td>1.0</td>\n",
       "      <td>0.0</td>\n",
       "    </tr>\n",
       "  </tbody>\n",
       "</table>\n",
       "<p>5 rows × 24 columns</p>\n",
       "</div>"
      ],
      "text/plain": [
       "   Rating  Reviews  Size  Installs  Price Content Rating        Genres  \\\n",
       "0     4.1      159  19.0     10000    0.0       Everyone  Art & Design   \n",
       "1     3.9      967  14.0    500000    0.0       Everyone  Art & Design   \n",
       "2     4.7    87510   8.7   5000000    0.0       Everyone  Art & Design   \n",
       "3     4.5   215644  25.0  50000000    0.0           Teen  Art & Design   \n",
       "4     4.3      967   2.8    100000    0.0       Everyone  Art & Design   \n",
       "\n",
       "   Last Updated         Current Ver   Android Ver  ...  Category_LIFESTYLE  \\\n",
       "0          2018               1.0.0  4.0.3 and up  ...                 0.0   \n",
       "1          2018               2.0.0  4.0.3 and up  ...                 0.0   \n",
       "2          2018               1.2.4  4.0.3 and up  ...                 0.0   \n",
       "3          2018  Varies with device    4.2 and up  ...                 0.0   \n",
       "4          2018                 1.1    4.4 and up  ...                 0.0   \n",
       "\n",
       "   Category_MEDICAL  Category_Other  Category_PERSONALIZATION  \\\n",
       "0               0.0             1.0                       0.0   \n",
       "1               0.0             1.0                       0.0   \n",
       "2               0.0             1.0                       0.0   \n",
       "3               0.0             1.0                       0.0   \n",
       "4               0.0             1.0                       0.0   \n",
       "\n",
       "   Category_PHOTOGRAPHY  Category_PRODUCTIVITY  Category_SPORTS  \\\n",
       "0                   0.0                    0.0              0.0   \n",
       "1                   0.0                    0.0              0.0   \n",
       "2                   0.0                    0.0              0.0   \n",
       "3                   0.0                    0.0              0.0   \n",
       "4                   0.0                    0.0              0.0   \n",
       "\n",
       "   Category_TOOLS  Type_Free  Type_Paid  \n",
       "0             0.0        1.0        0.0  \n",
       "1             0.0        1.0        0.0  \n",
       "2             0.0        1.0        0.0  \n",
       "3             0.0        1.0        0.0  \n",
       "4             0.0        1.0        0.0  \n",
       "\n",
       "[5 rows x 24 columns]"
      ]
     },
     "execution_count": 40,
     "metadata": {},
     "output_type": "execute_result"
    }
   ],
   "source": [
    "data_encoded.head()"
   ]
  },
  {
   "cell_type": "code",
   "execution_count": 28,
   "id": "c4d557d1",
   "metadata": {},
   "outputs": [],
   "source": [
    "from sklearn.preprocessing import MinMaxScaler"
   ]
  },
  {
   "cell_type": "code",
   "execution_count": 29,
   "id": "44763aac",
   "metadata": {},
   "outputs": [
    {
     "data": {
      "text/html": [
       "<div>\n",
       "<style scoped>\n",
       "    .dataframe tbody tr th:only-of-type {\n",
       "        vertical-align: middle;\n",
       "    }\n",
       "\n",
       "    .dataframe tbody tr th {\n",
       "        vertical-align: top;\n",
       "    }\n",
       "\n",
       "    .dataframe thead th {\n",
       "        text-align: right;\n",
       "    }\n",
       "</style>\n",
       "<table border=\"1\" class=\"dataframe\">\n",
       "  <thead>\n",
       "    <tr style=\"text-align: right;\">\n",
       "      <th></th>\n",
       "      <th>Rating</th>\n",
       "      <th>Reviews</th>\n",
       "      <th>Size</th>\n",
       "      <th>Installs</th>\n",
       "      <th>Price</th>\n",
       "      <th>Content Rating</th>\n",
       "      <th>Genres</th>\n",
       "      <th>Last Updated</th>\n",
       "      <th>Current Ver</th>\n",
       "      <th>Android Ver</th>\n",
       "      <th>...</th>\n",
       "      <th>Category_LIFESTYLE</th>\n",
       "      <th>Category_MEDICAL</th>\n",
       "      <th>Category_Other</th>\n",
       "      <th>Category_PERSONALIZATION</th>\n",
       "      <th>Category_PHOTOGRAPHY</th>\n",
       "      <th>Category_PRODUCTIVITY</th>\n",
       "      <th>Category_SPORTS</th>\n",
       "      <th>Category_TOOLS</th>\n",
       "      <th>Type_Free</th>\n",
       "      <th>Type_Paid</th>\n",
       "    </tr>\n",
       "  </thead>\n",
       "  <tbody>\n",
       "    <tr>\n",
       "      <th>0</th>\n",
       "      <td>4.1</td>\n",
       "      <td>159</td>\n",
       "      <td>19.0</td>\n",
       "      <td>10000</td>\n",
       "      <td>0.0</td>\n",
       "      <td>Everyone</td>\n",
       "      <td>Art &amp; Design</td>\n",
       "      <td>2018</td>\n",
       "      <td>1.0.0</td>\n",
       "      <td>4.0.3 and up</td>\n",
       "      <td>...</td>\n",
       "      <td>0.0</td>\n",
       "      <td>0.0</td>\n",
       "      <td>1.0</td>\n",
       "      <td>0.0</td>\n",
       "      <td>0.0</td>\n",
       "      <td>0.0</td>\n",
       "      <td>0.0</td>\n",
       "      <td>0.0</td>\n",
       "      <td>1.0</td>\n",
       "      <td>0.0</td>\n",
       "    </tr>\n",
       "    <tr>\n",
       "      <th>1</th>\n",
       "      <td>3.9</td>\n",
       "      <td>967</td>\n",
       "      <td>14.0</td>\n",
       "      <td>500000</td>\n",
       "      <td>0.0</td>\n",
       "      <td>Everyone</td>\n",
       "      <td>Art &amp; Design</td>\n",
       "      <td>2018</td>\n",
       "      <td>2.0.0</td>\n",
       "      <td>4.0.3 and up</td>\n",
       "      <td>...</td>\n",
       "      <td>0.0</td>\n",
       "      <td>0.0</td>\n",
       "      <td>1.0</td>\n",
       "      <td>0.0</td>\n",
       "      <td>0.0</td>\n",
       "      <td>0.0</td>\n",
       "      <td>0.0</td>\n",
       "      <td>0.0</td>\n",
       "      <td>1.0</td>\n",
       "      <td>0.0</td>\n",
       "    </tr>\n",
       "    <tr>\n",
       "      <th>2</th>\n",
       "      <td>4.7</td>\n",
       "      <td>87510</td>\n",
       "      <td>8.7</td>\n",
       "      <td>5000000</td>\n",
       "      <td>0.0</td>\n",
       "      <td>Everyone</td>\n",
       "      <td>Art &amp; Design</td>\n",
       "      <td>2018</td>\n",
       "      <td>1.2.4</td>\n",
       "      <td>4.0.3 and up</td>\n",
       "      <td>...</td>\n",
       "      <td>0.0</td>\n",
       "      <td>0.0</td>\n",
       "      <td>1.0</td>\n",
       "      <td>0.0</td>\n",
       "      <td>0.0</td>\n",
       "      <td>0.0</td>\n",
       "      <td>0.0</td>\n",
       "      <td>0.0</td>\n",
       "      <td>1.0</td>\n",
       "      <td>0.0</td>\n",
       "    </tr>\n",
       "    <tr>\n",
       "      <th>3</th>\n",
       "      <td>4.5</td>\n",
       "      <td>215644</td>\n",
       "      <td>25.0</td>\n",
       "      <td>50000000</td>\n",
       "      <td>0.0</td>\n",
       "      <td>Teen</td>\n",
       "      <td>Art &amp; Design</td>\n",
       "      <td>2018</td>\n",
       "      <td>Varies with device</td>\n",
       "      <td>4.2 and up</td>\n",
       "      <td>...</td>\n",
       "      <td>0.0</td>\n",
       "      <td>0.0</td>\n",
       "      <td>1.0</td>\n",
       "      <td>0.0</td>\n",
       "      <td>0.0</td>\n",
       "      <td>0.0</td>\n",
       "      <td>0.0</td>\n",
       "      <td>0.0</td>\n",
       "      <td>1.0</td>\n",
       "      <td>0.0</td>\n",
       "    </tr>\n",
       "    <tr>\n",
       "      <th>4</th>\n",
       "      <td>4.3</td>\n",
       "      <td>967</td>\n",
       "      <td>2.8</td>\n",
       "      <td>100000</td>\n",
       "      <td>0.0</td>\n",
       "      <td>Everyone</td>\n",
       "      <td>Art &amp; Design</td>\n",
       "      <td>2018</td>\n",
       "      <td>1.1</td>\n",
       "      <td>4.4 and up</td>\n",
       "      <td>...</td>\n",
       "      <td>0.0</td>\n",
       "      <td>0.0</td>\n",
       "      <td>1.0</td>\n",
       "      <td>0.0</td>\n",
       "      <td>0.0</td>\n",
       "      <td>0.0</td>\n",
       "      <td>0.0</td>\n",
       "      <td>0.0</td>\n",
       "      <td>1.0</td>\n",
       "      <td>0.0</td>\n",
       "    </tr>\n",
       "  </tbody>\n",
       "</table>\n",
       "<p>5 rows × 24 columns</p>\n",
       "</div>"
      ],
      "text/plain": [
       "   Rating  Reviews  Size  Installs  Price Content Rating        Genres  \\\n",
       "0     4.1      159  19.0     10000    0.0       Everyone  Art & Design   \n",
       "1     3.9      967  14.0    500000    0.0       Everyone  Art & Design   \n",
       "2     4.7    87510   8.7   5000000    0.0       Everyone  Art & Design   \n",
       "3     4.5   215644  25.0  50000000    0.0           Teen  Art & Design   \n",
       "4     4.3      967   2.8    100000    0.0       Everyone  Art & Design   \n",
       "\n",
       "   Last Updated         Current Ver   Android Ver  ...  Category_LIFESTYLE  \\\n",
       "0          2018               1.0.0  4.0.3 and up  ...                 0.0   \n",
       "1          2018               2.0.0  4.0.3 and up  ...                 0.0   \n",
       "2          2018               1.2.4  4.0.3 and up  ...                 0.0   \n",
       "3          2018  Varies with device    4.2 and up  ...                 0.0   \n",
       "4          2018                 1.1    4.4 and up  ...                 0.0   \n",
       "\n",
       "   Category_MEDICAL  Category_Other  Category_PERSONALIZATION  \\\n",
       "0               0.0             1.0                       0.0   \n",
       "1               0.0             1.0                       0.0   \n",
       "2               0.0             1.0                       0.0   \n",
       "3               0.0             1.0                       0.0   \n",
       "4               0.0             1.0                       0.0   \n",
       "\n",
       "   Category_PHOTOGRAPHY  Category_PRODUCTIVITY  Category_SPORTS  \\\n",
       "0                   0.0                    0.0              0.0   \n",
       "1                   0.0                    0.0              0.0   \n",
       "2                   0.0                    0.0              0.0   \n",
       "3                   0.0                    0.0              0.0   \n",
       "4                   0.0                    0.0              0.0   \n",
       "\n",
       "   Category_TOOLS  Type_Free  Type_Paid  \n",
       "0             0.0        1.0        0.0  \n",
       "1             0.0        1.0        0.0  \n",
       "2             0.0        1.0        0.0  \n",
       "3             0.0        1.0        0.0  \n",
       "4             0.0        1.0        0.0  \n",
       "\n",
       "[5 rows x 24 columns]"
      ]
     },
     "execution_count": 29,
     "metadata": {},
     "output_type": "execute_result"
    }
   ],
   "source": [
    "data_encoded.head()\n"
   ]
  },
  {
   "cell_type": "code",
   "execution_count": 30,
   "id": "d6312780",
   "metadata": {},
   "outputs": [
    {
     "data": {
      "text/plain": [
       "(9366, 24)"
      ]
     },
     "execution_count": 30,
     "metadata": {},
     "output_type": "execute_result"
    }
   ],
   "source": [
    "data_encoded.shape"
   ]
  },
  {
   "cell_type": "code",
   "execution_count": 31,
   "id": "7c874b94",
   "metadata": {},
   "outputs": [],
   "source": [
    "scaler = MinMaxScaler()\n",
    "columns_to_scale = [ 'Size','Reviews','Installs']\n",
    "\n",
    "# Fit and transform the selected columns\n",
    "data_encoded[columns_to_scale] = scaler.fit_transform(data_encoded[columns_to_scale])\n",
    "\n"
   ]
  },
  {
   "cell_type": "code",
   "execution_count": 45,
   "id": "956c9a85",
   "metadata": {},
   "outputs": [],
   "source": []
  },
  {
   "cell_type": "code",
   "execution_count": 46,
   "id": "c410079f",
   "metadata": {},
   "outputs": [],
   "source": []
  },
  {
   "cell_type": "code",
   "execution_count": 32,
   "id": "42f86500",
   "metadata": {},
   "outputs": [
    {
     "data": {
      "text/plain": [
       "2018    6508\n",
       "2017    1498\n",
       "2016     651\n",
       "2015     388\n",
       "2014     190\n",
       "2013      94\n",
       "2012      21\n",
       "2011      15\n",
       "2010       1\n",
       "Name: Last Updated, dtype: int64"
      ]
     },
     "execution_count": 32,
     "metadata": {},
     "output_type": "execute_result"
    }
   ],
   "source": [
    "data_encoded['Last Updated'].value_counts()"
   ]
  },
  {
   "cell_type": "code",
   "execution_count": 33,
   "id": "69dca65b",
   "metadata": {},
   "outputs": [],
   "source": [
    "ordered_years = ['2010', '2011', '2012', '2013','2014','2015','2016','2017','2018']\n",
    "data_encoded['Last Updated'] = data_encoded['Last Updated'].astype(str)\n",
    "data_encoded['Last Updated'] = data_encoded['Last Updated'].apply(lambda x: ordered_years.index(x))"
   ]
  },
  {
   "cell_type": "code",
   "execution_count": 34,
   "id": "19eabe3a",
   "metadata": {},
   "outputs": [
    {
     "data": {
      "text/html": [
       "<div>\n",
       "<style scoped>\n",
       "    .dataframe tbody tr th:only-of-type {\n",
       "        vertical-align: middle;\n",
       "    }\n",
       "\n",
       "    .dataframe tbody tr th {\n",
       "        vertical-align: top;\n",
       "    }\n",
       "\n",
       "    .dataframe thead th {\n",
       "        text-align: right;\n",
       "    }\n",
       "</style>\n",
       "<table border=\"1\" class=\"dataframe\">\n",
       "  <thead>\n",
       "    <tr style=\"text-align: right;\">\n",
       "      <th></th>\n",
       "      <th>Rating</th>\n",
       "      <th>Reviews</th>\n",
       "      <th>Size</th>\n",
       "      <th>Installs</th>\n",
       "      <th>Price</th>\n",
       "      <th>Content Rating</th>\n",
       "      <th>Genres</th>\n",
       "      <th>Last Updated</th>\n",
       "      <th>Current Ver</th>\n",
       "      <th>Android Ver</th>\n",
       "      <th>...</th>\n",
       "      <th>Category_LIFESTYLE</th>\n",
       "      <th>Category_MEDICAL</th>\n",
       "      <th>Category_Other</th>\n",
       "      <th>Category_PERSONALIZATION</th>\n",
       "      <th>Category_PHOTOGRAPHY</th>\n",
       "      <th>Category_PRODUCTIVITY</th>\n",
       "      <th>Category_SPORTS</th>\n",
       "      <th>Category_TOOLS</th>\n",
       "      <th>Type_Free</th>\n",
       "      <th>Type_Paid</th>\n",
       "    </tr>\n",
       "  </thead>\n",
       "  <tbody>\n",
       "    <tr>\n",
       "      <th>0</th>\n",
       "      <td>4.1</td>\n",
       "      <td>0.000002</td>\n",
       "      <td>0.189933</td>\n",
       "      <td>0.00001</td>\n",
       "      <td>0.0</td>\n",
       "      <td>Everyone</td>\n",
       "      <td>Art &amp; Design</td>\n",
       "      <td>8</td>\n",
       "      <td>1.0.0</td>\n",
       "      <td>4.0.3 and up</td>\n",
       "      <td>...</td>\n",
       "      <td>0.0</td>\n",
       "      <td>0.0</td>\n",
       "      <td>1.0</td>\n",
       "      <td>0.0</td>\n",
       "      <td>0.0</td>\n",
       "      <td>0.0</td>\n",
       "      <td>0.0</td>\n",
       "      <td>0.0</td>\n",
       "      <td>1.0</td>\n",
       "      <td>0.0</td>\n",
       "    </tr>\n",
       "    <tr>\n",
       "      <th>1</th>\n",
       "      <td>3.9</td>\n",
       "      <td>0.000012</td>\n",
       "      <td>0.139929</td>\n",
       "      <td>0.00050</td>\n",
       "      <td>0.0</td>\n",
       "      <td>Everyone</td>\n",
       "      <td>Art &amp; Design</td>\n",
       "      <td>8</td>\n",
       "      <td>2.0.0</td>\n",
       "      <td>4.0.3 and up</td>\n",
       "      <td>...</td>\n",
       "      <td>0.0</td>\n",
       "      <td>0.0</td>\n",
       "      <td>1.0</td>\n",
       "      <td>0.0</td>\n",
       "      <td>0.0</td>\n",
       "      <td>0.0</td>\n",
       "      <td>0.0</td>\n",
       "      <td>0.0</td>\n",
       "      <td>1.0</td>\n",
       "      <td>0.0</td>\n",
       "    </tr>\n",
       "    <tr>\n",
       "      <th>2</th>\n",
       "      <td>4.7</td>\n",
       "      <td>0.001120</td>\n",
       "      <td>0.086924</td>\n",
       "      <td>0.00500</td>\n",
       "      <td>0.0</td>\n",
       "      <td>Everyone</td>\n",
       "      <td>Art &amp; Design</td>\n",
       "      <td>8</td>\n",
       "      <td>1.2.4</td>\n",
       "      <td>4.0.3 and up</td>\n",
       "      <td>...</td>\n",
       "      <td>0.0</td>\n",
       "      <td>0.0</td>\n",
       "      <td>1.0</td>\n",
       "      <td>0.0</td>\n",
       "      <td>0.0</td>\n",
       "      <td>0.0</td>\n",
       "      <td>0.0</td>\n",
       "      <td>0.0</td>\n",
       "      <td>1.0</td>\n",
       "      <td>0.0</td>\n",
       "    </tr>\n",
       "    <tr>\n",
       "      <th>3</th>\n",
       "      <td>4.5</td>\n",
       "      <td>0.002759</td>\n",
       "      <td>0.249938</td>\n",
       "      <td>0.05000</td>\n",
       "      <td>0.0</td>\n",
       "      <td>Teen</td>\n",
       "      <td>Art &amp; Design</td>\n",
       "      <td>8</td>\n",
       "      <td>Varies with device</td>\n",
       "      <td>4.2 and up</td>\n",
       "      <td>...</td>\n",
       "      <td>0.0</td>\n",
       "      <td>0.0</td>\n",
       "      <td>1.0</td>\n",
       "      <td>0.0</td>\n",
       "      <td>0.0</td>\n",
       "      <td>0.0</td>\n",
       "      <td>0.0</td>\n",
       "      <td>0.0</td>\n",
       "      <td>1.0</td>\n",
       "      <td>0.0</td>\n",
       "    </tr>\n",
       "    <tr>\n",
       "      <th>4</th>\n",
       "      <td>4.3</td>\n",
       "      <td>0.000012</td>\n",
       "      <td>0.027919</td>\n",
       "      <td>0.00010</td>\n",
       "      <td>0.0</td>\n",
       "      <td>Everyone</td>\n",
       "      <td>Art &amp; Design</td>\n",
       "      <td>8</td>\n",
       "      <td>1.1</td>\n",
       "      <td>4.4 and up</td>\n",
       "      <td>...</td>\n",
       "      <td>0.0</td>\n",
       "      <td>0.0</td>\n",
       "      <td>1.0</td>\n",
       "      <td>0.0</td>\n",
       "      <td>0.0</td>\n",
       "      <td>0.0</td>\n",
       "      <td>0.0</td>\n",
       "      <td>0.0</td>\n",
       "      <td>1.0</td>\n",
       "      <td>0.0</td>\n",
       "    </tr>\n",
       "  </tbody>\n",
       "</table>\n",
       "<p>5 rows × 24 columns</p>\n",
       "</div>"
      ],
      "text/plain": [
       "   Rating   Reviews      Size  Installs  Price Content Rating        Genres  \\\n",
       "0     4.1  0.000002  0.189933   0.00001    0.0       Everyone  Art & Design   \n",
       "1     3.9  0.000012  0.139929   0.00050    0.0       Everyone  Art & Design   \n",
       "2     4.7  0.001120  0.086924   0.00500    0.0       Everyone  Art & Design   \n",
       "3     4.5  0.002759  0.249938   0.05000    0.0           Teen  Art & Design   \n",
       "4     4.3  0.000012  0.027919   0.00010    0.0       Everyone  Art & Design   \n",
       "\n",
       "   Last Updated         Current Ver   Android Ver  ...  Category_LIFESTYLE  \\\n",
       "0             8               1.0.0  4.0.3 and up  ...                 0.0   \n",
       "1             8               2.0.0  4.0.3 and up  ...                 0.0   \n",
       "2             8               1.2.4  4.0.3 and up  ...                 0.0   \n",
       "3             8  Varies with device    4.2 and up  ...                 0.0   \n",
       "4             8                 1.1    4.4 and up  ...                 0.0   \n",
       "\n",
       "   Category_MEDICAL  Category_Other  Category_PERSONALIZATION  \\\n",
       "0               0.0             1.0                       0.0   \n",
       "1               0.0             1.0                       0.0   \n",
       "2               0.0             1.0                       0.0   \n",
       "3               0.0             1.0                       0.0   \n",
       "4               0.0             1.0                       0.0   \n",
       "\n",
       "   Category_PHOTOGRAPHY  Category_PRODUCTIVITY  Category_SPORTS  \\\n",
       "0                   0.0                    0.0              0.0   \n",
       "1                   0.0                    0.0              0.0   \n",
       "2                   0.0                    0.0              0.0   \n",
       "3                   0.0                    0.0              0.0   \n",
       "4                   0.0                    0.0              0.0   \n",
       "\n",
       "   Category_TOOLS  Type_Free  Type_Paid  \n",
       "0             0.0        1.0        0.0  \n",
       "1             0.0        1.0        0.0  \n",
       "2             0.0        1.0        0.0  \n",
       "3             0.0        1.0        0.0  \n",
       "4             0.0        1.0        0.0  \n",
       "\n",
       "[5 rows x 24 columns]"
      ]
     },
     "execution_count": 34,
     "metadata": {},
     "output_type": "execute_result"
    }
   ],
   "source": [
    "\n",
    "data_encoded.head()"
   ]
  },
  {
   "cell_type": "code",
   "execution_count": 35,
   "id": "3cd6c638",
   "metadata": {},
   "outputs": [],
   "source": [
    "columns_to_drop = ['Price', 'Content Rating', 'Genres', 'Current Ver', 'Android Ver']\n",
    "data_encoded.drop(columns=columns_to_drop, axis=1, inplace=True)"
   ]
  },
  {
   "cell_type": "code",
   "execution_count": 36,
   "id": "8205d62e",
   "metadata": {},
   "outputs": [],
   "source": [
    "X=data_encoded.drop('Rating',axis=1)\n",
    "Y=data_encoded['Rating']"
   ]
  },
  {
   "cell_type": "code",
   "execution_count": 37,
   "id": "9b27312d",
   "metadata": {},
   "outputs": [],
   "source": [
    "from sklearn.model_selection import train_test_split\n",
    "X_train,X_test,Y_train,Y_test=train_test_split(X,Y,test_size=0.25,random_state=42)"
   ]
  },
  {
   "cell_type": "code",
   "execution_count": 38,
   "id": "01a1b98d",
   "metadata": {},
   "outputs": [],
   "source": [
    "from sklearn.linear_model import LinearRegression\n",
    "lr=LinearRegression()\n",
    "model=lr.fit(X_train,Y_train)\n",
    "y_pred=model.predict(X_test)"
   ]
  },
  {
   "cell_type": "code",
   "execution_count": 39,
   "id": "291e49b1",
   "metadata": {},
   "outputs": [],
   "source": [
    "from sklearn.metrics import mean_squared_error,r2_score"
   ]
  },
  {
   "cell_type": "code",
   "execution_count": 40,
   "id": "4f323850",
   "metadata": {},
   "outputs": [
    {
     "name": "stdout",
     "output_type": "stream",
     "text": [
      "0.2415742503030916\n",
      "0.02867652886884331\n"
     ]
    }
   ],
   "source": [
    "print(mean_squared_error(Y_test,y_pred))\n",
    "print(r2_score(Y_test,y_pred))"
   ]
  },
  {
   "cell_type": "code",
   "execution_count": 41,
   "id": "32d100ed",
   "metadata": {},
   "outputs": [],
   "source": [
    "from sklearn.tree import DecisionTreeRegressor\n",
    "dt_reg=DecisionTreeRegressor()\n",
    "dt_reg.fit(X_train,Y_train)\n",
    "Y_pred=dt_reg.predict(X_test)"
   ]
  },
  {
   "cell_type": "code",
   "execution_count": 42,
   "id": "85bf62bd",
   "metadata": {},
   "outputs": [
    {
     "name": "stdout",
     "output_type": "stream",
     "text": [
      "Fold 1 R-squared value: 0.03\n",
      "Fold 2 R-squared value: 0.05\n",
      "Fold 3 R-squared value: 0.03\n",
      "Fold 4 R-squared value: 0.03\n",
      "Fold 5 R-squared value: 0.04\n",
      "Average R-squared value: 0.04\n"
     ]
    }
   ],
   "source": [
    "#Cross Validation\n",
    "from sklearn.model_selection import KFold\n",
    "from sklearn.model_selection import cross_val_score\n",
    "from sklearn.linear_model import LinearRegression\n",
    "\n",
    "\n",
    "\n",
    "# Create a KFold object\n",
    "kfold = KFold(n_splits=5, shuffle=True, random_state=42)\n",
    "\n",
    "# Create a model instance\n",
    "model = LinearRegression()\n",
    "\n",
    "# Perform cross-validation\n",
    "scores = cross_val_score(model, X, Y, cv=kfold, scoring='r2')\n",
    "\n",
    "# Print the R-squared value for each fold\n",
    "for fold_num, score in enumerate(scores, start=1):\n",
    "    print(f\"Fold {fold_num} R-squared value: {score:.2f}\")\n",
    "\n",
    "# Calculate and print the average R-squared value\n",
    "average_r2 = scores.mean()\n",
    "print(f\"Average R-squared value: {average_r2:.2f}\")"
   ]
  },
  {
   "cell_type": "code",
   "execution_count": 43,
   "id": "3794e7a1",
   "metadata": {},
   "outputs": [],
   "source": [
    "#SVMR\n",
    "from sklearn.svm import SVR\n",
    "from sklearn.metrics import mean_squared_error\n",
    "svm_regressor = SVR(kernel='rbf', C=1.0, epsilon=0.1)\n",
    "svm_regressor.fit(X_train, Y_train)\n",
    "\n",
    "# Make predictions on the test set\n",
    "Y_pred = svm_regressor.predict(X_test)\n",
    "\n",
    "# Calculate the Mean Squared Error (MSE) as a metric\n",
    "mse = mean_squared_error(Y_test, Y_pred)"
   ]
  },
  {
   "cell_type": "code",
   "execution_count": 44,
   "id": "6548bb8d",
   "metadata": {},
   "outputs": [
    {
     "data": {
      "text/plain": [
       "0.24611471831520065"
      ]
     },
     "execution_count": 44,
     "metadata": {},
     "output_type": "execute_result"
    }
   ],
   "source": [
    "mse\n"
   ]
  },
  {
   "cell_type": "code",
   "execution_count": 45,
   "id": "8567a372",
   "metadata": {},
   "outputs": [
    {
     "name": "stdout",
     "output_type": "stream",
     "text": [
      "R2 Score: 0.010420182654176768\n"
     ]
    }
   ],
   "source": [
    "from sklearn.metrics import  r2_score\n",
    "\n",
    "r2 = r2_score(Y_test, Y_pred)\n",
    "print(\"R2 Score:\", r2)"
   ]
  },
  {
   "cell_type": "code",
   "execution_count": null,
   "id": "72578faf",
   "metadata": {},
   "outputs": [],
   "source": []
  },
  {
   "cell_type": "code",
   "execution_count": null,
   "id": "202440be",
   "metadata": {},
   "outputs": [],
   "source": []
  },
  {
   "cell_type": "code",
   "execution_count": 47,
   "id": "154904af",
   "metadata": {},
   "outputs": [],
   "source": [
    "from sklearn.tree import DecisionTreeRegressor\n",
    "dt_reg=DecisionTreeRegressor()\n",
    "dt_reg.fit(X_train,Y_train)\n",
    "Y_pred=dt_reg.predict(X_test)"
   ]
  },
  {
   "cell_type": "code",
   "execution_count": 48,
   "id": "237e69e7",
   "metadata": {},
   "outputs": [
    {
     "name": "stdout",
     "output_type": "stream",
     "text": [
      "Mean Squared Error on Training Data: 0.005840214502657555\n",
      "Mean Squared Error on Test Data: 0.4124083167283424\n"
     ]
    }
   ],
   "source": [
    "# Calculate mean squared error on training data\n",
    "mse_train = mean_squared_error(Y_train, dt_reg.predict(X_train))\n",
    "print('Mean Squared Error on Training Data:', mse_train)\n",
    "\n",
    "# Calculate mean squared error on test data\n",
    "mse_test = mean_squared_error(Y_test, Y_pred)\n",
    "print('Mean Squared Error on Test Data:', mse_test)"
   ]
  },
  {
   "cell_type": "code",
   "execution_count": 49,
   "id": "7db81835",
   "metadata": {},
   "outputs": [],
   "source": [
    "mse_test = mean_squared_error(Y_test, Y_pred)\n",
    "rmse_test = mean_squared_error(Y_test, Y_pred, squared=False)\n",
    "mae_test = mean_absolute_error(Y_test, Y_pred)\n",
    "r2_test = r2_score(Y_test, Y_pred)\n"
   ]
  },
  {
   "cell_type": "code",
   "execution_count": 50,
   "id": "34a0d6bd",
   "metadata": {},
   "outputs": [
    {
     "name": "stdout",
     "output_type": "stream",
     "text": [
      "Mean Squared Error (MSE) on Test Data: 0.4124083167283424\n",
      "Root Mean Squared Error (RMSE) on Test Data: 0.6421902496366185\n",
      "Mean Absolute Error (MAE) on Test Data: 0.4111372046683746\n",
      "R-squared (R2) on Test Data: -0.6582143056444971\n"
     ]
    }
   ],
   "source": [
    "print('Mean Squared Error (MSE) on Test Data:', mse_test)\n",
    "print('Root Mean Squared Error (RMSE) on Test Data:', rmse_test)\n",
    "print('Mean Absolute Error (MAE) on Test Data:', mae_test)\n",
    "print('R-squared (R2) on Test Data:', r2_test)"
   ]
  },
  {
   "cell_type": "code",
   "execution_count": 51,
   "id": "9818fcee",
   "metadata": {},
   "outputs": [],
   "source": [
    "from sklearn.ensemble import RandomForestRegressor\n",
    "from sklearn.metrics import mean_squared_error, mean_absolute_error, r2_score\n"
   ]
  },
  {
   "cell_type": "code",
   "execution_count": null,
   "id": "ebd36f86",
   "metadata": {},
   "outputs": [],
   "source": [
    "# Create a Random Forest Regressor model\n",
    "rf_regressor = RandomForestRegressor(n_estimators=100, random_state=42)\n",
    "\n",
    "# Train the model on the training data\n",
    "rf_regressor.fit(X_train, Y_train)\n",
    "\n",
    "# Predict on the test data\n",
    "y_pred = rf_regressor.predict(X_test)\n",
    "\n",
    "# Calculate evaluation metrics\n",
    "mse = mean_squared_error(Y_test, y_pred)\n",
    "rmse = mean_squared_error(Y_test, y_pred, squared=False)\n",
    "mae = mean_absolute_error(Y_test, y_pred)\n",
    "r2 = r2_score(Y_test, y_pred)\n",
    "\n",
    "# Print the evaluation metrics\n",
    "print(\"Mean Squared Error (MSE):\", mse)\n",
    "print(\"Root Mean Squared Error (RMSE):\", rmse)\n",
    "print(\"Mean Absolute Error (MAE):\", mae)\n",
    "print(\"R-squared (R2):\", r2)"
   ]
  },
  {
   "cell_type": "code",
   "execution_count": 69,
   "id": "15d6e986",
   "metadata": {},
   "outputs": [],
   "source": [
    "#Hyperparameter tuning"
   ]
  },
  {
   "cell_type": "code",
   "execution_count": null,
   "id": "3b6c6cb6",
   "metadata": {},
   "outputs": [],
   "source": [
    "param_dist = {\n",
    "    'n_estimators': np.arange(50, 301, 50),\n",
    "    'max_depth': [None] + list(np.arange(10, 110, 10)),\n",
    "    'min_samples_split': np.arange(2, 11),\n",
    "    'min_samples_leaf': np.arange(1, 11),\n",
    "    'max_features': ['auto', 'sqrt', 'log2'],\n",
    "    'bootstrap': [True, False],\n",
    "    'criterion': ['squared_error','poisson','friedman_mse','absolute_error']  # Include both criteria for the search\n",
    "}\n",
    "\n",
    "rf_regressor = RandomForestRegressor(random_state=42)\n",
    "\n",
    "n_iter_search = 20  # Number of parameter settings that are sampled\n",
    "random_search = RandomizedSearchCV(\n",
    "    rf_regressor, param_distributions=param_dist,\n",
    "    n_iter=n_iter_search, cv=5, scoring='neg_mean_squared_error',\n",
    "    random_state=42, n_jobs=-1\n",
    ")\n",
    "\n",
    "# Fit the random search model to your data\n",
    "random_search.fit(X, Y)\n",
    "\n",
    "print(\"Best Parameters:\", random_search.best_params_)\n",
    "best_rf_model = random_search.best_estimator_\n"
   ]
  },
  {
   "cell_type": "code",
   "execution_count": null,
   "id": "f158c025",
   "metadata": {},
   "outputs": [],
   "source": [
    "#the output obtained is Best Parameters: {'n_estimators': 200, 'min_samples_split': 8, 'min_samples_leaf': 7, 'max_features': 'log2', 'max_depth': 90, 'criterion': 'squared_error', 'bootstrap': True}"
   ]
  },
  {
   "cell_type": "code",
   "execution_count": null,
   "id": "39261df8",
   "metadata": {},
   "outputs": [],
   "source": [
    "#applying the obtained parameters\n",
    "hyperparameters = {\n",
    "    'n_estimators': 200,\n",
    "    'criterion': 'squared_error',\n",
    "    'max_depth': 90,\n",
    "    'min_samples_split': 8,\n",
    "    'min_samples_leaf': 7,\n",
    "    'max_features': 'log2',\n",
    "    'bootstrap': True}\n",
    "model=RandomForestRegressor (**hyperparameters)\n",
    "model.fit(X_train, Y_train)\n",
    "prediction = model.predict(X_test)\n",
    "\n",
    "# Calculate evaluation metrics\n",
    "mse1 = mean_squared_error(Y_test, prediction)\n",
    "rmse1 = mean_squared_error(Y_test, prediction, squared=False)\n",
    "mae1 = mean_absolute_error(Y_test, prediction)\n",
    "r2new = r2_score(Y_test, prediction)\n",
    "\n",
    "# Print the evaluation metrics\n",
    "print(\"Mean Squared Error (MSE):\", mse1)\n",
    "print(\"Root Mean Squared Error (RMSE):\", rmse1)\n",
    "print(\"Mean Absolute Error (MAE):\", mae1)\n",
    "print(\"R-squared (R2):\", r2new)\n",
    "\n"
   ]
  },
  {
   "cell_type": "code",
   "execution_count": null,
   "id": "fbddd23d",
   "metadata": {},
   "outputs": [],
   "source": [
    "from sklearn.model_selection import GridSearchCV\n",
    "best_estimator = random_search.best_estimator_\n",
    "\n",
    "param_grid = {\n",
    "    'criterion': [best_estimator.criterion],\n",
    "    'max_depth': [best_estimator.max_depth],\n",
    "    'max_features': [best_estimator.max_features],\n",
    "    'min_samples_leaf': [best_estimator.min_samples_leaf,\n",
    "                         best_estimator.min_samples_leaf + 2,\n",
    "                         best_estimator.min_samples_leaf + 4],\n",
    "    'min_samples_split': [best_estimator.min_samples_split - 2,\n",
    "                          best_estimator.min_samples_split - 1,\n",
    "                          best_estimator.min_samples_split,\n",
    "                          best_estimator.min_samples_split + 1,\n",
    "                          best_estimator.min_samples_split + 2],\n",
    "    'n_estimators': [best_estimator.n_estimators - 200,\n",
    "                     best_estimator.n_estimators - 100,\n",
    "                     best_estimator.n_estimators,\n",
    "                     best_estimator.n_estimators + 100,\n",
    "                     best_estimator.n_estimators + 200]\n",
    "}\n",
    "\n",
    "print(param_grid)\n"
   ]
  },
  {
   "cell_type": "code",
   "execution_count": null,
   "id": "1b03f663",
   "metadata": {},
   "outputs": [],
   "source": []
  },
  {
   "cell_type": "code",
   "execution_count": null,
   "id": "baf913a1",
   "metadata": {},
   "outputs": [],
   "source": [
    "rf = RandomForestRegressor()\n",
    "grid_search = GridSearchCV(estimator=rf,param_grid =param_grid,cv=10,n_jobs=-1,verbose=2)\n",
    "grid_search.fit(X_train,Y_train)"
   ]
  },
  {
   "cell_type": "code",
   "execution_count": null,
   "id": "5770b72d",
   "metadata": {},
   "outputs": [],
   "source": [
    "#the output obtained is {'criterion': ['squared_error'], 'max_depth': [90], 'max_features': ['log2'], 'min_samples_leaf': [7, 9, 11], 'min_samples_split': [6, 7, 8, 9, 10], 'n_estimators': [0, 100, 200, 300, 400]}"
   ]
  },
  {
   "cell_type": "code",
   "execution_count": null,
   "id": "6baf0521",
   "metadata": {},
   "outputs": [],
   "source": [
    " param_grid= {\n",
    "    'n_estimators': 400,\n",
    "    'criterion': 'squared_error',\n",
    "    'max_depth': 90,\n",
    "    'min_samples_split': 6,\n",
    "    'min_samples_leaf': 7,\n",
    "    'max_features': 'log2',\n",
    "    'bootstrap': True}\n",
    "model=RandomForestRegressor (**param_grid)\n",
    "model.fit(X_train, Y_train)\n",
    "prediction3 = model.predict(X_test)\n",
    "\n",
    "# Calculate evaluation metrics\n",
    "mse3 = mean_squared_error(Y_test, prediction3)\n",
    "rmse3 = mean_squared_error(Y_test, prediction3, squared=False)\n",
    "mae3 = mean_absolute_error(Y_test, prediction3)\n",
    "r2grid3 = r2_score(Y_test, prediction3)\n",
    "\n",
    "# Print the evaluation metrics\n",
    "print(\"Mean Squared Error (MSE):\", mse3)\n",
    "print(\"Root Mean Squared Error (RMSE):\", rmse3)\n",
    "print(\"Mean Absolute Error (MAE):\", mae3)\n",
    "print(\"R-squared (R2):\", r2grid3)"
   ]
  },
  {
   "cell_type": "code",
   "execution_count": null,
   "id": "bf6aee10",
   "metadata": {},
   "outputs": [],
   "source": [
    "param_grid= {\n",
    "    'n_estimators': 100,\n",
    "    'criterion': 'squared_error',\n",
    "    'max_depth': 90,\n",
    "    'min_samples_split': 9,\n",
    "    'min_samples_leaf': 9,\n",
    "    'max_features': 'log2',\n",
    "    'bootstrap': True}\n",
    "model=RandomForestRegressor (**param_grid)\n",
    "model.fit(X_train, Y_train)\n",
    "prediction2 = model.predict(X_test)\n",
    "\n",
    "# Calculate evaluation metrics\n",
    "mse2 = mean_squared_error(Y_test, prediction2)\n",
    "rmse2 = mean_squared_error(Y_test, prediction2, squared=False)\n",
    "mae2 = mean_absolute_error(Y_test, prediction2)\n",
    "r2grid = r2_score(Y_test, prediction2)\n",
    "\n",
    "# Print the evaluation metrics\n",
    "print(\"Mean Squared Error (MSE):\", mse2)\n",
    "print(\"Root Mean Squared Error (RMSE):\", rmse2)\n",
    "print(\"Mean Absolute Error (MAE):\", mae2)\n",
    "print(\"R-squared (R2):\", r2grid)"
   ]
  },
  {
   "cell_type": "code",
   "execution_count": null,
   "id": "da783116",
   "metadata": {},
   "outputs": [],
   "source": []
  },
  {
   "cell_type": "code",
   "execution_count": null,
   "id": "b6d4df50",
   "metadata": {},
   "outputs": [],
   "source": []
  },
  {
   "cell_type": "code",
   "execution_count": null,
   "id": "acfc0ffd",
   "metadata": {},
   "outputs": [],
   "source": []
  },
  {
   "cell_type": "code",
   "execution_count": null,
   "id": "5081b637",
   "metadata": {},
   "outputs": [],
   "source": []
  },
  {
   "cell_type": "code",
   "execution_count": null,
   "id": "ec23d892",
   "metadata": {},
   "outputs": [],
   "source": []
  },
  {
   "cell_type": "code",
   "execution_count": null,
   "id": "1c63def9",
   "metadata": {},
   "outputs": [],
   "source": []
  },
  {
   "cell_type": "code",
   "execution_count": null,
   "id": "d12e5099",
   "metadata": {},
   "outputs": [],
   "source": []
  }
 ],
 "metadata": {
  "kernelspec": {
   "display_name": "Python 3 (ipykernel)",
   "language": "python",
   "name": "python3"
  },
  "language_info": {
   "codemirror_mode": {
    "name": "ipython",
    "version": 3
   },
   "file_extension": ".py",
   "mimetype": "text/x-python",
   "name": "python",
   "nbconvert_exporter": "python",
   "pygments_lexer": "ipython3",
   "version": "3.10.9"
  }
 },
 "nbformat": 4,
 "nbformat_minor": 5
}
